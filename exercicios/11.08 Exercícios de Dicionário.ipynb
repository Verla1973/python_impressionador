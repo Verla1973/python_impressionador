{
 "cells": [
  {
   "cell_type": "markdown",
   "metadata": {},
   "source": [
    "# Exercícios\n",
    "\n",
    "## 1. Exercício \"menos prático\" para treinar manipulação de dicionário\n",
    "\n",
    "Dessa vez, vamos apenas treinar a manipulação de dicionário. Transforme as listas abaixo em 1 único dicionário no formato:"
   ]
  },
  {
   "cell_type": "raw",
   "metadata": {},
   "source": [
    "dicionario = {\n",
    "    produto: [vendas2019, vendas2020],\n",
    "    produto2: [vendas2019, vendas2020],\n",
    "    produto3: [vendas2019, vendas2020],\n",
    "    ...\n",
    "}"
   ]
  },
  {
   "cell_type": "markdown",
   "metadata": {},
   "source": [
    "- Apesar de parecer \"menos prático\" esse é um procedimento que precisamos nos acostumar a fazer, visto que algumas funções (tema dos próximos módulos) precisam de dicionários para funcionar e saber transformar listas em dicionários (e vice-versa) é uma habilidade muito útil\n",
    "\n",
    "Obs: Lembre do zip para juntar listas.<br>\n",
    "Obs2: Repare que cada item das vendas é na verdade uma lista. Então é provável que você precise fazer esse código em 2 etapas"
   ]
  },
  {
   "cell_type": "code",
   "execution_count": 3,
   "metadata": {},
   "outputs": [
    {
     "name": "stdout",
     "output_type": "stream",
     "text": [
      "Produto: iphone. Vendas 2019 558147 unidades.Vendas 2020 951642 unidades.\n",
      "Produto: galaxy. Vendas 2019 712350 unidades.Vendas 2020 244295 unidades.\n",
      "Produto: ipad. Vendas 2019 573823 unidades.Vendas 2020 26964 unidades.\n",
      "Produto: tv. Vendas 2019 405252 unidades.Vendas 2020 787604 unidades.\n",
      "Produto: máquina de café. Vendas 2019 718654 unidades.Vendas 2020 867660 unidades.\n",
      "Produto: kindle. Vendas 2019 531580 unidades.Vendas 2020 78830 unidades.\n",
      "Produto: geladeira. Vendas 2019 973139 unidades.Vendas 2020 710331 unidades.\n",
      "Produto: adega. Vendas 2019 892292 unidades.Vendas 2020 646016 unidades.\n",
      "Produto: notebook dell. Vendas 2019 422760 unidades.Vendas 2020 694913 unidades.\n",
      "Produto: notebook hp. Vendas 2019 154753 unidades.Vendas 2020 539704 unidades.\n",
      "Produto: notebook asus. Vendas 2019 887061 unidades.Vendas 2020 324831 unidades.\n",
      "Produto: microsoft surface. Vendas 2019 438508 unidades.Vendas 2020 667179 unidades.\n",
      "Produto: webcam. Vendas 2019 237467 unidades.Vendas 2020 295633 unidades.\n",
      "Produto: caixa de som. Vendas 2019 489705 unidades.Vendas 2020 725316 unidades.\n",
      "Produto: microfone. Vendas 2019 328311 unidades.Vendas 2020 644622 unidades.\n",
      "Produto: câmera canon. Vendas 2019 591120 unidades.Vendas 2020 994303 unidades.\n"
     ]
    }
   ],
   "source": [
    "produtos = ['iphone', 'galaxy', 'ipad', 'tv', 'máquina de café', 'kindle', 'geladeira', 'adega', 'notebook dell', 'notebook hp', 'notebook asus', 'microsoft surface', 'webcam', 'caixa de som', 'microfone', 'câmera canon']\n",
    "vendas2019 = [558147,712350,573823,405252,718654,531580,973139,892292,422760,154753,887061,438508,237467,489705,328311,591120]\n",
    "vendas2020 = [951642,244295,26964,787604,867660,78830,710331,646016,694913,539704,324831,667179,295633,725316,644622,994303]\n",
    "\n",
    "#seu código aqui\n",
    "vendas = zip(vendas2019, vendas2020)\n",
    "vendas_produtos = dict(zip(produtos, vendas))\n",
    "for produto, vendas in vendas_produtos.items():\n",
    "    print(f'Produto: {produto}. Vendas 2019 {vendas[0]} unidades.Vendas 2020 {vendas[1]} unidades.')\n"
   ]
  }
 ],
 "metadata": {
  "kernelspec": {
   "display_name": "Python 3",
   "language": "python",
   "name": "python3"
  },
  "language_info": {
   "codemirror_mode": {
    "name": "ipython",
    "version": 3
   },
   "file_extension": ".py",
   "mimetype": "text/x-python",
   "name": "python",
   "nbconvert_exporter": "python",
   "pygments_lexer": "ipython3",
   "version": "3.7.6"
  }
 },
 "nbformat": 4,
 "nbformat_minor": 4
}
