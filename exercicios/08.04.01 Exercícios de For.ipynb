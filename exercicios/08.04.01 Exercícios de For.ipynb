{
 "cells": [
  {
   "cell_type": "markdown",
   "metadata": {},
   "source": [
    "# Exercícios\n",
    "\n",
    "## 1. Criando um Registro de Hóspedes\n",
    "\n",
    "Digamos que você está criando o sistema para registrar a chegada de hóspedes em um hotel. No hotel, os hóspedes podem ter quartos com 1, 2, 3 e 4 pessoas. Seu sistema deve conseguir:\n",
    "\n",
    "1. Identificar quantas pessoas o hóspede que acabou de chegar vai ter no quarto (perguntando por meio de input)\n",
    "2. De acordo com a quantidade de pessoas do hóspede, ele deve fazer um for para perguntar o cpf e o nome de cada pessoa, a fim de registrá-la no quarto (2 inputs para cada pessoa, 1 para o cpf e outro para o nome)\n",
    "3. O seu programa então deve gerar uma lista com todas as pessoas que ficarão no quarto em que cada item dessa lista é o nome da pessoa e o cpf da pessoa, assim:"
   ]
  },
  {
   "cell_type": "raw",
   "metadata": {},
   "source": [
    "quarto = [\n",
    "    ['João', 'cpf:00000000000'],\n",
    "    ['Julia', 'cpf:11111111111'],\n",
    "    ['Marcus', 'cpf:22222222222'],\n",
    "    ['Maria', 'cpf:33333333333'],\n",
    "]"
   ]
  },
  {
   "cell_type": "markdown",
   "metadata": {},
   "source": [
    "- Para simplificar, não vamos nos preocupar com possibilidades de \"tentar colocar mais de 1 hóspede, digitar o cpf errado, etc. Nosso objetivo é treinar a criação de uma rotina de cadastro"
   ]
  },
  {
   "cell_type": "code",
   "execution_count": 2,
   "metadata": {},
   "outputs": [
    {
     "name": "stdout",
     "output_type": "stream",
     "text": [
      "Quantas pessoas terão no quarto? 2\n",
      "Nome do hóspede: Verlã Acosta Ramos\n",
      "CPF: 66743290025\n",
      "Nome do hóspede: Fernanda Goularte Ramos\n",
      "CPF: 12345678910\n",
      "[['Nome: Verlã Acosta Ramos, CPF: 66743290025'], ['Nome: Fernanda Goularte Ramos, CPF: 12345678910']]\n"
     ]
    }
   ],
   "source": [
    "qtde_pessoas = int(input('Quantas pessoas terão no quarto? '))\n",
    "quarto = []\n",
    "for i in range(qtde_pessoas):\n",
    "    nome = str(input('Nome do hóspede: '))\n",
    "    cpf = int(input('CPF: '))\n",
    "    hospede = [f'Nome: {nome}, CPF: {cpf}']\n",
    "    quarto.append(hospede)\n",
    "print(quarto)"
   ]
  },
  {
   "cell_type": "markdown",
   "metadata": {},
   "source": [
    "## 2. Análise de Vendas\n",
    "\n",
    "Nesse exercício vamos fazer uma \"análise simples\" de atingimento de Meta.\n",
    "\n",
    "Temos uma lista com os vendedores e os valores de vendas e queremos identificar (printar) quais os vendedores que bateram a meta e qual foi o valor que eles venderam."
   ]
  },
  {
   "cell_type": "code",
   "execution_count": 3,
   "metadata": {},
   "outputs": [
    {
     "name": "stdout",
     "output_type": "stream",
     "text": [
      "O vendedor João bateu a meta com 15000 em vendas.\n",
      "O vendedor Julia bateu a meta com 27000 em vendas.\n",
      "O vendedor Ana bateu a meta com 10300 em vendas.\n"
     ]
    }
   ],
   "source": [
    "meta = 10000\n",
    "vendas = [\n",
    "    ['João', 15000],\n",
    "    ['Julia', 27000],\n",
    "    ['Marcus', 9900],\n",
    "    ['Maria', 3750],\n",
    "    ['Ana', 10300],\n",
    "    ['Alon', 7870],\n",
    "]\n",
    "for item in vendas:\n",
    "    if item[1] >= meta:\n",
    "        print(f'O vendedor {item[0]} bateu a meta com {item[1]} em vendas.')"
   ]
  },
  {
   "cell_type": "markdown",
   "metadata": {},
   "source": [
    "## 3. Comparação com Ano Anterior\n",
    "\n",
    "Digamos que você está analisando as vendas de produtos de um ecommerce e quer identificar quais produtos tiveram no ano de 2020 mais vendas do que no ano de 2019, para reportar isso para a diretoria.\n",
    "\n",
    "Sua resposta pode ser um print de cada produto, qual foi a venda de 2019, a venda de 2020 e o % de crescimento de 2020 para 2019.\n",
    "\n",
    "Lembrando, para calcular o % de crescimento de um produto de um ano para o outro, podemos fazer: (vendas_produto2020/vendas_produto2019 - 1)\n",
    "\n",
    "Dica: lembre do enumerate, ele pode facilitar seu \"for\""
   ]
  },
  {
   "cell_type": "code",
   "execution_count": 5,
   "metadata": {},
   "outputs": [
    {
     "name": "stdout",
     "output_type": "stream",
     "text": [
      "O produto iphone vendeu 558147 em 2019, 951642 em 2020.\n",
      "Teve um acréscimo de 70.5% em relação ao ano anterior.\n",
      "O produto tv vendeu 405252 em 2019, 787604 em 2020.\n",
      "Teve um acréscimo de 94.3% em relação ao ano anterior.\n",
      "O produto máquina de café vendeu 718654 em 2019, 867660 em 2020.\n",
      "Teve um acréscimo de 20.7% em relação ao ano anterior.\n",
      "O produto notebook dell vendeu 422760 em 2019, 694913 em 2020.\n",
      "Teve um acréscimo de 64.4% em relação ao ano anterior.\n",
      "O produto notebook hp vendeu 154753 em 2019, 539704 em 2020.\n",
      "Teve um acréscimo de 248.8% em relação ao ano anterior.\n",
      "O produto microsoft surface vendeu 438508 em 2019, 667179 em 2020.\n",
      "Teve um acréscimo de 52.1% em relação ao ano anterior.\n",
      "O produto webcam vendeu 237467 em 2019, 295633 em 2020.\n",
      "Teve um acréscimo de 24.5% em relação ao ano anterior.\n",
      "O produto caixa de som vendeu 489705 em 2019, 725316 em 2020.\n",
      "Teve um acréscimo de 48.1% em relação ao ano anterior.\n",
      "O produto microfone vendeu 328311 em 2019, 644622 em 2020.\n",
      "Teve um acréscimo de 96.3% em relação ao ano anterior.\n",
      "O produto câmera canon vendeu 591120 em 2019, 994303 em 2020.\n",
      "Teve um acréscimo de 68.2% em relação ao ano anterior.\n"
     ]
    }
   ],
   "source": [
    "produtos = ['iphone', 'galaxy', 'ipad', 'tv', 'máquina de café', 'kindle', 'geladeira', 'adega', 'notebook dell', 'notebook hp', 'notebook asus', 'microsoft surface', 'webcam', 'caixa de som', 'microfone', 'câmera canon']\n",
    "vendas2019 = [558147,712350,573823,405252,718654,531580,973139,892292,422760,154753,887061,438508,237467,489705,328311,591120]\n",
    "vendas2020 = [951642,244295,26964,787604,867660,78830,710331,646016,694913,539704,324831,667179,295633,725316,644622,994303]\n",
    "#seu código aqui\n",
    "\n",
    "for i, produto in enumerate(produtos):\n",
    "    if vendas2020[i] > vendas2019[i]:\n",
    "        crescimento = vendas2020[i] / vendas2019[i] -1\n",
    "        print(f'O produto {produto} vendeu {vendas2019[i]} em 2019, {vendas2020[i]} em 2020.')\n",
    "        print(f'Teve um acréscimo de {crescimento:.1%} em relação ao ano anterior.')\n",
    "        "
   ]
  }
 ],
 "metadata": {
  "kernelspec": {
   "display_name": "Python 3",
   "language": "python",
   "name": "python3"
  },
  "language_info": {
   "codemirror_mode": {
    "name": "ipython",
    "version": 3
   },
   "file_extension": ".py",
   "mimetype": "text/x-python",
   "name": "python",
   "nbconvert_exporter": "python",
   "pygments_lexer": "ipython3",
   "version": "3.7.6"
  }
 },
 "nbformat": 4,
 "nbformat_minor": 4
}
