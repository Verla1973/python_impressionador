{
 "cells": [
  {
   "cell_type": "markdown",
   "metadata": {},
   "source": [
    "# Range\n",
    "\n",
    "### Estrutura:\n",
    "\n",
    "- range(tamanho)\n",
    "\n",
    "ou \n",
    "\n",
    "- range(inicio, fim)\n",
    "\n",
    "ou\n",
    "\n",
    "- range(inicio, fim, passo)"
   ]
  },
  {
   "cell_type": "code",
   "execution_count": null,
   "metadata": {},
   "outputs": [],
   "source": [
    "#uso mais comum no for:\n",
    "produtos = ['arroz', 'feijao', 'macarrao', 'atum', 'azeite']\n",
    "estoque = [50, 100, 20, 5, 80]"
   ]
  },
  {
   "cell_type": "code",
   "execution_count": null,
   "metadata": {},
   "outputs": [],
   "source": [
    "#range com inicio e fim\n",
    "print(range(1, 10))\n",
    "\n",
    "#vamos olhar no for para entender"
   ]
  },
  {
   "cell_type": "markdown",
   "metadata": {},
   "source": [
    "- Exemplo: Modelo Jack Welch da G&E\n",
    "\n",
    "    1. Classe A: 10% melhor\n",
    "    2. Classe B: 80% mantém/busca melhorar\n",
    "    3. Classe C: 10% pior\n",
    "    \n",
    "Quem são os funcionários classe B?"
   ]
  },
  {
   "cell_type": "code",
   "execution_count": 2,
   "metadata": {},
   "outputs": [
    {
     "name": "stdout",
     "output_type": "stream",
     "text": [
      "O funcionário Antônio fez 1500 vendas.\n",
      "O funcionário João fez 1200 vendas.\n",
      "O funcionário Francisco fez 1111 vendas.\n",
      "O funcionário Ana fez 1100 vendas.\n",
      "O funcionário Luiz fez 999 vendas.\n",
      "O funcionário Paulo fez 900 vendas.\n",
      "O funcionário Carlos fez 880 vendas.\n",
      "O funcionário Manoel fez 870 vendas.\n",
      "O funcionário Pedro fez 800 vendas.\n",
      "O funcionário Francisca fez 800 vendas.\n",
      "O funcionário Marcos fez 450 vendas.\n",
      "O funcionário Raimundo fez 400 vendas.\n",
      "O funcionário Sebastião fez 300 vendas.\n",
      "O funcionário Antônia fez 300 vendas.\n",
      "O funcionário Marcelo fez 120 vendas.\n",
      "O funcionário Jorge fez 90 vendas.\n"
     ]
    }
   ],
   "source": [
    "funcionarios = ['Maria', 'José', 'Antônio', 'João', 'Francisco', 'Ana', 'Luiz', 'Paulo', 'Carlos', 'Manoel', 'Pedro', 'Francisca', 'Marcos', 'Raimundo', 'Sebastião', 'Antônia', 'Marcelo', 'Jorge', 'Márcia', 'Geraldo']\n",
    "vendas = [2750, 1900, 1500, 1200, 1111, 1100, 999, 900, 880, 870, 800, 800, 450, 400, 300, 300, 120, 90, 80, 70]\n",
    "for i in range(2, 18):\n",
    "    print(f'O funcionário {funcionarios[i]} fez {vendas[i]} vendas.')"
   ]
  },
  {
   "cell_type": "code",
   "execution_count": 3,
   "metadata": {},
   "outputs": [
    {
     "name": "stdout",
     "output_type": "stream",
     "text": [
      "range(0, 1000, 10)\n",
      "0\n",
      "10\n",
      "20\n",
      "30\n",
      "40\n",
      "50\n",
      "60\n",
      "70\n",
      "80\n",
      "90\n",
      "100\n",
      "110\n",
      "120\n",
      "130\n",
      "140\n",
      "150\n",
      "160\n",
      "170\n",
      "180\n",
      "190\n",
      "200\n",
      "210\n",
      "220\n",
      "230\n",
      "240\n",
      "250\n",
      "260\n",
      "270\n",
      "280\n",
      "290\n",
      "300\n",
      "310\n",
      "320\n",
      "330\n",
      "340\n",
      "350\n",
      "360\n",
      "370\n",
      "380\n",
      "390\n",
      "400\n",
      "410\n",
      "420\n",
      "430\n",
      "440\n",
      "450\n",
      "460\n",
      "470\n",
      "480\n",
      "490\n",
      "500\n",
      "510\n",
      "520\n",
      "530\n",
      "540\n",
      "550\n",
      "560\n",
      "570\n",
      "580\n",
      "590\n",
      "600\n",
      "610\n",
      "620\n",
      "630\n",
      "640\n",
      "650\n",
      "660\n",
      "670\n",
      "680\n",
      "690\n",
      "700\n",
      "710\n",
      "720\n",
      "730\n",
      "740\n",
      "750\n",
      "760\n",
      "770\n",
      "780\n",
      "790\n",
      "800\n",
      "810\n",
      "820\n",
      "830\n",
      "840\n",
      "850\n",
      "860\n",
      "870\n",
      "880\n",
      "890\n",
      "900\n",
      "910\n",
      "920\n",
      "930\n",
      "940\n",
      "950\n",
      "960\n",
      "970\n",
      "980\n",
      "990\n"
     ]
    }
   ],
   "source": [
    "#range com passo\n",
    "print(range(0, 1000, 10))\n",
    "\n",
    "for i in range(0, 1000, 10):\n",
    "    print(i)"
   ]
  }
 ],
 "metadata": {
  "kernelspec": {
   "display_name": "Python 3",
   "language": "python",
   "name": "python3"
  },
  "language_info": {
   "codemirror_mode": {
    "name": "ipython",
    "version": 3
   },
   "file_extension": ".py",
   "mimetype": "text/x-python",
   "name": "python",
   "nbconvert_exporter": "python",
   "pygments_lexer": "ipython3",
   "version": "3.7.6"
  }
 },
 "nbformat": 4,
 "nbformat_minor": 4
}
