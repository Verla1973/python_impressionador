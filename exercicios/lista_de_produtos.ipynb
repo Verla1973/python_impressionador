{
 "cells": [
  {
   "cell_type": "code",
   "execution_count": 8,
   "metadata": {},
   "outputs": [
    {
     "name": "stdout",
     "output_type": "stream",
     "text": [
      "Produto: computador\n",
      "Quantidade: 10000\n",
      "Preço unitário:R$ 2500.00\n",
      "Produto: livro\n",
      "Quantidade: 50000\n",
      "Preço unitário:R$ 40.00\n",
      "Produto: tablet\n",
      "Quantidade: 7000\n",
      "Preço unitário:R$ 1200.00\n",
      "Produto: celular\n",
      "Quantidade: 20000\n",
      "Preço unitário:R$ 1500.00\n",
      "Produto: tv\n",
      "Quantidade: 5800\n",
      "Preço unitário:R$ 1300.00\n",
      "Produto: ar condicionado\n",
      "Quantidade: 7200\n",
      "Preço unitário:R$ 2500.00\n",
      "Produto: alexa\n",
      "Quantidade: 200\n",
      "Preço unitário:R$ 800.00\n",
      "Produto: máquina de café\n",
      "Quantidade: 3300\n",
      "Preço unitário:R$ 700.00\n",
      "Produto: kindle\n",
      "Quantidade: 1900\n",
      "Preço unitário:R$ 400.00\n"
     ]
    }
   ],
   "source": [
    "produtos = ['computador', 'livro', 'tablet', 'celular', 'tv', 'ar condicionado', 'alexa', 'máquina de café', 'kindle']\n",
    "\n",
    "#cada item da lista dos produtos corresponde a quantidade de vendas no mês e preço, nessa ordem\n",
    "produtos_ecommerce = [\n",
    "    [10000, 2500],\n",
    "    [50000, 40],\n",
    "    [7000, 1200],\n",
    "    [20000, 1500],\n",
    "    [5800, 1300],\n",
    "    [7200, 2500],\n",
    "    [200, 800],\n",
    "    [3300, 700],\n",
    "    [1900, 400]\n",
    "]\n",
    "total = len(produtos)\n",
    "for i in range(total):\n",
    "    print(f'Produto: {produtos[i]}')\n",
    "    print(f'Quantidade: {produtos_ecommerce[i][0]}')\n",
    "    print(f'Preço unitário:R$ {produtos_ecommerce[i][1]:.2f}')"
   ]
  }
 ],
 "metadata": {
  "kernelspec": {
   "display_name": "Python 3",
   "language": "python",
   "name": "python3"
  },
  "language_info": {
   "codemirror_mode": {
    "name": "ipython",
    "version": 3
   },
   "file_extension": ".py",
   "mimetype": "text/x-python",
   "name": "python",
   "nbconvert_exporter": "python",
   "pygments_lexer": "ipython3",
   "version": "3.7.6"
  }
 },
 "nbformat": 4,
 "nbformat_minor": 4
}
